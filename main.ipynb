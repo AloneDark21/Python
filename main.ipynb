{
 "cells": [
  {
   "cell_type": "markdown",
   "metadata": {},
   "source": [
    "Magic Command (bunlar jupyter ' e ozgu komutlardır) \n",
    "%ls ve %pwd komutlari"
   ]
  },
  {
   "cell_type": "code",
   "execution_count": 5,
   "metadata": {},
   "outputs": [
    {
     "name": "stdout",
     "output_type": "stream",
     "text": [
      " Volume in drive C has no label.\n",
      " Volume Serial Number is 2A72-D249\n",
      "\n",
      " Directory of c:\\Users\\yldrm\\OneDrive\\Desktop\\Python Projeleri\\23-Dosya ve Klas�r Module'leri\n",
      "\n",
      "10.02.2024  17:55    <DIR>          .\n",
      "10.02.2024  17:54    <DIR>          ..\n",
      "10.02.2024  17:54                 0 main.ipynb\n",
      "               1 File(s)              0 bytes\n",
      "               2 Dir(s)  418.290.831.360 bytes free\n"
     ]
    }
   ],
   "source": [
    "# %ls  listeleme anlamına geliyor\n",
    "# bulundugum klasörün içindeki dosyaları klasörleri listelemek için kullanılır\n",
    "\n",
    "%ls"
   ]
  },
  {
   "cell_type": "code",
   "execution_count": 6,
   "metadata": {},
   "outputs": [
    {
     "data": {
      "text/plain": [
       "\"c:\\\\Users\\\\yldrm\\\\OneDrive\\\\Desktop\\\\Python Projeleri\\\\23-Dosya ve Klasör Module'leri\""
      ]
     },
     "execution_count": 6,
     "metadata": {},
     "output_type": "execute_result"
    }
   ],
   "source": [
    "# %pwd komutu dosyamızın bilgisarda bulundugu yerin yolunu gosterir\n",
    "\n",
    "%pwd "
   ]
  },
  {
   "cell_type": "code",
   "execution_count": 7,
   "metadata": {},
   "outputs": [
    {
     "data": {
      "text/plain": [
       "\"c:\\\\Users\\\\yldrm\\\\OneDrive\\\\Desktop\\\\Python Projeleri\\\\23-Dosya ve Klasör Module'leri\""
      ]
     },
     "execution_count": 7,
     "metadata": {},
     "output_type": "execute_result"
    }
   ],
   "source": [
    "\"\"\"\n",
    "OS Modulu \n",
    "- os modulu coklu klasorlerin oldugu yerlerde avantaj saglar \n",
    "- Burda kullanacagimiz komutlar tum derleyicilerde çalisir\n",
    "\n",
    "\"\"\"\n",
    "#Navigasyon ve Icerik Listeleme Komutlari\n",
    "\n",
    "import os # os kütüphanesini yukledik\n",
    "\n",
    "os.getcwd() # os modulunde dosyamizin yolunu goruntulemek ıcın bu fonksiyonu kullanırız"
   ]
  },
  {
   "cell_type": "code",
   "execution_count": 8,
   "metadata": {},
   "outputs": [
    {
     "data": {
      "text/plain": [
       "['main.ipynb']"
      ]
     },
     "execution_count": 8,
     "metadata": {},
     "output_type": "execute_result"
    }
   ],
   "source": [
    "os.listdir() # suanki klasorun altındaki dosya ve klasordeki yazdirmak icin kullanilir"
   ]
  },
  {
   "cell_type": "code",
   "execution_count": 9,
   "metadata": {},
   "outputs": [
    {
     "data": {
      "text/plain": [
       "['.git',\n",
       " '.vscode',\n",
       " '1-Print ile Ekrana Yazdırma',\n",
       " '10-While Döngüleri',\n",
       " '11-range, enumerate ve zip kullanımları',\n",
       " '12-break, continue ve pass komutları',\n",
       " '13-Alıştırmalar part 2',\n",
       " '14-fonksiyonlar',\n",
       " '15-fonksiyonlar part-2',\n",
       " '16-map, filter ve lambda ifadeleri',\n",
       " '17-input komutu kullanımı',\n",
       " '18-Try, Except ve Finally Komutlari',\n",
       " '19-Alıştırmalar Part-3',\n",
       " '2-String Kullanımı',\n",
       " '20-Object Oriented Programing',\n",
       " \"21-Regex Module'ü\",\n",
       " \"22-Random ve Math Module'leri\",\n",
       " \"23-Dosya ve Klasör Module'leri\",\n",
       " '3-list ve set kullanımı',\n",
       " '4-Dictionary veri tipi',\n",
       " '5-tuple veri tipi',\n",
       " '6-Alıştırmalar',\n",
       " '7-if Kullanımı',\n",
       " '8-Listelerde for döngüleri',\n",
       " '9-Diğer Objelerde For Döngüleri']"
      ]
     },
     "execution_count": 9,
     "metadata": {},
     "output_type": "execute_result"
    }
   ],
   "source": [
    "# manuel olarakta istedigimiz klasorun icindeki dosya ve klasorlari listeleyebiliriz\n",
    "\n",
    "os.listdir(\"c:\\\\Users\\\\yldrm\\\\OneDrive\\\\Desktop\\\\Python Projeleri\") # parantez icerisine listelemek istedigimiz klasorun yolunu girmemiz gerekir, burada python projeleri klasorundeki dosya ve klasorlari yazdirdik"
   ]
  },
  {
   "cell_type": "code",
   "execution_count": 14,
   "metadata": {},
   "outputs": [
    {
     "data": {
      "text/plain": [
       "['All Users', 'Default', 'Default User', 'desktop.ini', 'Public', 'yldrm']"
      ]
     },
     "execution_count": 14,
     "metadata": {},
     "output_type": "execute_result"
    }
   ],
   "source": [
    "# chdir() komutunu ise bulundugumuz klasoru degistirmek, farkli bir klasore gecmek icin kullaniriz\n",
    "\n",
    "os.chdir(\"c:\\\\Users\") # burda Users klasorune gectik\n",
    "os.listdir()"
   ]
  },
  {
   "cell_type": "code",
   "execution_count": 15,
   "metadata": {},
   "outputs": [],
   "source": [
    "# tekrar bulundugumuz klasore donelim\n",
    "os.chdir(\"c:\\\\Users\\\\yldrm\\\\OneDrive\\\\Desktop\\\\Python Projeleri\\\\23-Dosya ve Klasör Module'leri\")"
   ]
  },
  {
   "cell_type": "code",
   "execution_count": 17,
   "metadata": {},
   "outputs": [
    {
     "name": "stdout",
     "output_type": "stream",
     "text": [
      "main.ipynb Dosyasi\n"
     ]
    }
   ],
   "source": [
    "# for dongusu kullanarak klasor icindeki dosyalara tek tek ulasabiliriz ve uzerlerinde degisiklik yapabiliriz ama bu degisiklik sadece burda olur dosyalar uzerinde bi etkisi olamayacaktir\n",
    "\n",
    "dosyalar = os.listdir()\n",
    "for eleman in dosyalar :\n",
    "    print(eleman + \" Dosyasi\") # sadece ekrana yadirdik"
   ]
  },
  {
   "cell_type": "markdown",
   "metadata": {},
   "source": [
    "Yeni Klasor Olustruma, Isim degistirme ve Silme islemleri"
   ]
  },
  {
   "cell_type": "code",
   "execution_count": 22,
   "metadata": {},
   "outputs": [
    {
     "data": {
      "text/plain": [
       "['Deneme_Klasoru', 'main.ipynb']"
      ]
     },
     "execution_count": 22,
     "metadata": {},
     "output_type": "execute_result"
    }
   ],
   "source": [
    "# mkdir() \"make directory\" komutu ile klasor olustururuz \n",
    "# bulundugumuz klasorun icine bir Deneme Klasoru olsturacagiz\n",
    "os.mkdir(\"c:\\\\Users\\\\yldrm\\\\OneDrive\\\\Desktop\\\\Python Projeleri\\\\23-Dosya ve Klasör Module'leri\\\\Deneme_Klasoru\")\n",
    "\n",
    "os.listdir() # Deneme Klasorunu Olusturup Ekrana Yazdirdik"
   ]
  },
  {
   "cell_type": "code",
   "execution_count": 23,
   "metadata": {},
   "outputs": [
    {
     "data": {
      "text/plain": [
       "['main.ipynb']"
      ]
     },
     "execution_count": 23,
     "metadata": {},
     "output_type": "execute_result"
    }
   ],
   "source": [
    "# simdide bir klasoru nasıl silecegiz ona bakalim\n",
    "# rmdir() \"remove make directory\" komutu ilede istedigimiz klasoru silebiliriz\n",
    "\n",
    "os.rmdir(\"c:\\\\Users\\\\yldrm\\\\OneDrive\\\\Desktop\\\\Python Projeleri\\\\23-Dosya ve Klasör Module'leri\\\\Deneme_Klasoru\")\n",
    "\n",
    "os.listdir() # burda da olusturdugumuz Deneme Klasorunu silip yazdirdik"
   ]
  },
  {
   "cell_type": "code",
   "execution_count": 25,
   "metadata": {},
   "outputs": [],
   "source": [
    "\"\"\"\n",
    "asagidaki komutlar ile de dosya olusturma, dosyaya veri yazma, dosyadan veri okuma gibi islemleri yapacagiz\n",
    "os.O_RDONLY -> read only -> sadece oku\n",
    "os.O_WRONLY -> write only -> sadece yaz\n",
    "os.O_RDWR -> read and write -> yaz ve oku\n",
    "os.O_CREAT -> create -> Olustur \n",
    "\n",
    "\"\"\"\n",
    "# altta yaptigimiz islem ile yeni bir dosya olusturma ve dosyaya yazma ve dosyadan okuma islemi yapacagiz\n",
    "yeni_dosya = os.open(\"yeni_dosya.txt\", os.O_RDWR | os.O_CREAT) \n",
    "os.write(yeni_dosya, \"Merhaba Dunya!\".encode()) # burda once nereye yazmak istedigimiz daha sonrada ne yazmak istedigimizi yazdik\n",
    "os.close(yeni_dosya) # dosya ile islem bittikten sonra dosayayi kapattik\n",
    "# burda encode() komutu ile stringi byte cevirip gonderdik bu saglikli bir sey degil asagida daha saglıklı bir sekilde yapacagiz"
   ]
  },
  {
   "cell_type": "code",
   "execution_count": 26,
   "metadata": {},
   "outputs": [
    {
     "name": "stdout",
     "output_type": "stream",
     "text": [
      "b'Merhaba Du'\n"
     ]
    }
   ],
   "source": [
    "yeni_dosya = os.open(\"yeni_dosya.txt\", os.O_RDONLY)\n",
    "\n",
    "icerik = os.read(yeni_dosya, 10) # burda dosyadan 10 karakter okumasini yaptirdik\n",
    "print(icerik)\n",
    "os.close(yeni_dosya)"
   ]
  },
  {
   "cell_type": "code",
   "execution_count": 28,
   "metadata": {},
   "outputs": [
    {
     "name": "stdout",
     "output_type": "stream",
     "text": [
      "os.stat_result(st_mode=33206, st_ino=9570149208198478, st_dev=712168009, st_nlink=1, st_uid=0, st_gid=0, st_size=14, st_atime=1707580729, st_mtime=1707580584, st_ctime=1707580455)\n"
     ]
    }
   ],
   "source": [
    "# simdide icerisindeki karakter sayisini bilmedigimiz dosya iceriginin hespisini yazdiralim\n",
    "# burda stat komutu ile dosyamiin icerisindeki karakter sayisini ogrenebiliriz ciktida st_size bizim dosyamizdaki karakter sayimizdir.\n",
    "yeni_dosya = os.open(\"yeni_dosya.txt\", os.O_RDONLY)\n",
    "istatistik = os.stat(yeni_dosya)\n",
    "print(istatistik)\n",
    "os.close(yeni_dosya)"
   ]
  },
  {
   "cell_type": "code",
   "execution_count": 29,
   "metadata": {},
   "outputs": [
    {
     "name": "stdout",
     "output_type": "stream",
     "text": [
      "b'Merhaba Dunya!'\n"
     ]
    }
   ],
   "source": [
    "yeni_dosya = os.open(\"yeni_dosya.txt\", os.O_RDONLY)\n",
    "uzunluk = os.stat(yeni_dosya).st_size # bu sekilde dosyadaki tum karakterleri ekrana yazdirabiliriz\n",
    "icerik = os.read(yeni_dosya, uzunluk)\n",
    "print(icerik.decode()) # en basta stringi byte a encode() komutu ile cevirip dosyaya yazdik, ekrana yazarkende karakterlerde hata olmamasi icin encode() u decoda() cevirip yazdirdik \n",
    "os.close(yeni_dosya)"
   ]
  },
  {
   "cell_type": "code",
   "execution_count": 30,
   "metadata": {},
   "outputs": [
    {
     "data": {
      "text/plain": [
       "['Deneme_yeni', 'main.ipynb', 'yeni_dosya.txt']"
      ]
     },
     "execution_count": 30,
     "metadata": {},
     "output_type": "execute_result"
    }
   ],
   "source": [
    "os.mkdir(\"Deneme_yeni\") # yeni bir klasor olusturduk. asagida bu klasorun ismini rename() komutu ile degistirecegiz\n",
    "os.listdir()"
   ]
  },
  {
   "cell_type": "code",
   "execution_count": 31,
   "metadata": {},
   "outputs": [
    {
     "data": {
      "text/plain": [
       "['Deneme_Eski', 'main.ipynb', 'yeni_dosya.txt']"
      ]
     },
     "execution_count": 31,
     "metadata": {},
     "output_type": "execute_result"
    }
   ],
   "source": [
    "os.rename(\"Deneme_yeni\",\"Deneme_Eski\") # rename() komutu ile Deneme_yeni klasorunun ismini Deneme_Eski diye degistirdik\n",
    "os.listdir()"
   ]
  },
  {
   "cell_type": "code",
   "execution_count": 32,
   "metadata": {},
   "outputs": [
    {
     "data": {
      "text/plain": [
       "['Deneme_Eski', 'main.ipynb']"
      ]
     },
     "execution_count": 32,
     "metadata": {},
     "output_type": "execute_result"
    }
   ],
   "source": [
    "# burada da olusturdugumuz dosyayi remove() komutu ile silebiliriz\n",
    "# asagidaki ciktida gordugunuz uzere yeni_dosya.txt dosyamizi sildik \n",
    "os.remove(\"yeni_dosya.txt\")\n",
    "os.listdir()"
   ]
  }
 ],
 "metadata": {
  "kernelspec": {
   "display_name": "base",
   "language": "python",
   "name": "python3"
  },
  "language_info": {
   "codemirror_mode": {
    "name": "ipython",
    "version": 3
   },
   "file_extension": ".py",
   "mimetype": "text/x-python",
   "name": "python",
   "nbconvert_exporter": "python",
   "pygments_lexer": "ipython3",
   "version": "3.11.5"
  }
 },
 "nbformat": 4,
 "nbformat_minor": 2
}
